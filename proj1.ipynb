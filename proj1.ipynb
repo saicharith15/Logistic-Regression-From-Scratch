{
 "cells": [
  {
   "cell_type": "code",
   "execution_count": 140,
   "metadata": {},
   "outputs": [],
   "source": [
    "import pandas as pd\n",
    "import numpy as np\n",
    "from matplotlib import pyplot as plt\n",
    "from sklearn.preprocessing import StandardScaler \n",
    "from sklearn.model_selection import train_test_split"
   ]
  },
  {
   "cell_type": "code",
   "execution_count": 141,
   "metadata": {},
   "outputs": [],
   "source": [
    "# This function is used to load the data and preproccess it.\n",
    "def load_data():\n",
    "    data_frame=pd.read_csv(\"D:\\\\ml\\\\final\\\\wdbc.csv\",header=None)\n",
    "    data_frame.drop(0,axis=1,inplace=True)\n",
    "    data_frame[1].replace(\"B\",0,inplace=True)\n",
    "    data_frame[1].replace(\"M\",1,inplace=True)\n",
    "    return data_frame"
   ]
  },
  {
   "cell_type": "code",
   "execution_count": 142,
   "metadata": {},
   "outputs": [],
   "source": [
    "#initializing the weight matrix and bias\n",
    "def initialize(m):\n",
    "#m is the no. of training examples    \n",
    "    weights = np.zeros((m,1))\n",
    "    bias = 0\n",
    "    \n",
    "    return weights , bias"
   ]
  },
  {
   "cell_type": "code",
   "execution_count": 143,
   "metadata": {},
   "outputs": [],
   "source": [
    "#Sigmoid Fuction\n",
    "def sigmoid_function(Z):\n",
    "    return 1/(1 + np.exp(- Z))"
   ]
  },
  {
   "cell_type": "code",
   "execution_count": 144,
   "metadata": {},
   "outputs": [],
   "source": [
    "#Calculating the Cost and gradients\n",
    "def training(X, Y, weights, bias):\n",
    "    \n",
    "    m = X.shape[1] #Number of training examples\n",
    "\n",
    "    #calculating the cost\n",
    "    Z = np.dot(weights.T, X) + bias;    \n",
    "    sigmoid = sigmoid_function(Z)\n",
    "    cost= -(1/m) * np.sum( Y * np.log(sigmoid) + (1-Y) * np.log(1-sigmoid))\n",
    "    \n",
    "    #calculating the gradients to minimize the cost function \n",
    "    derived_weights = (1/m)* np.dot(X, (sigmoid - Y).T)\n",
    "    derived_bias = (1/m)* np.sum(sigmoid - Y)\n",
    "    \n",
    "    \n",
    "    gradients = {\"dw\" : derived_weights, \"db\" : derived_bias}\n",
    "    \n",
    "    return gradients, cost"
   ]
  },
  {
   "cell_type": "code",
   "execution_count": 145,
   "metadata": {},
   "outputs": [],
   "source": [
    "#Optimizing the weights and calculating the cost for each epoch\n",
    "def optimize(X, Y, weights, bias, epochs, learning_rate):\n",
    "    \n",
    "    \n",
    "    costs=[]\n",
    "    predictions=[]\n",
    "    \n",
    "    for i in range(epochs):\n",
    " \n",
    "        gradients, cost = training(X, Y, weights, bias)\n",
    "        \n",
    "        derived_weights = gradients[\"dw\"]\n",
    "        derived_bias = gradients[\"db\"]\n",
    "        \n",
    "        weights = weights - learning_rate * derived_weights\n",
    "        bias = bias - learning_rate * derived_bias\n",
    "        \n",
    "        #Storing the cost at interval of every 10 iterations\n",
    "        if i % 10 == 0:\n",
    "            costs.append(cost)\n",
    "            print(\"cost after %i iteration : %f\" % (i, cost))\n",
    "        \n",
    "        prediction = predict(X, weights, bias)\n",
    "        predictions.append(100 - np.mean(np.abs(prediction - Y.T)) * 100)\n",
    "        \n",
    "            \n",
    "    w = {\"w\":weights, \"b\":bias}\n",
    "    gradients = {\"dw\":derived_weights, \"db\":derived_bias}\n",
    "    \n",
    "    return w, gradients, costs, predictions"
   ]
  },
  {
   "cell_type": "code",
   "execution_count": 146,
   "metadata": {},
   "outputs": [],
   "source": [
    "#Predicting the value of y by using decision boundary\n",
    "def predict(X, weights, bias):\n",
    "    \n",
    "    m = X.shape[1] #Number of training examples\n",
    "    \n",
    "    y_prediction =  np.zeros((1,m))\n",
    "    \n",
    "    weights = weights.reshape(X.shape[0], 1)\n",
    "    \n",
    "    sigmoid=sigmoid_function(np.dot(weights.T, X)+bias)\n",
    "    \n",
    "    #print(sigmoid . round(0.5))\n",
    "    \n",
    "    for i in range(sigmoid.shape[1]):\n",
    "        \n",
    "        if(sigmoid[0,i]<0.5):\n",
    "            y_prediction[0,i]=0\n",
    "        else:\n",
    "            y_prediction[0,i]=1           \n",
    "    \n",
    "    return y_prediction"
   ]
  },
  {
   "cell_type": "code",
   "execution_count": 147,
   "metadata": {},
   "outputs": [],
   "source": [
    "# Initialising the logistic legression algorithm\n",
    "def logistic_regression(X_train, Y_train, epochs, learning_rate):\n",
    "    \n",
    "    no_of_dimensions = X_train.shape[0] #Number of features\n",
    "    \n",
    "    weights,bias = initialize(no_of_dimensions)\n",
    "    \n",
    "    parameters, gradients, costs, predictions = optimize(X_train, Y_train, weights, bias, epochs, learning_rate) \n",
    "    \n",
    "    weights = parameters[\"w\"]\n",
    "    bias = parameters[\"b\"]\n",
    "    \n",
    "    d={\"w\":weights, \"b\":bias, \"costs\": costs, \"predictions\": predictions}\n",
    "    \n",
    "    return d"
   ]
  },
  {
   "cell_type": "code",
   "execution_count": 148,
   "metadata": {},
   "outputs": [],
   "source": [
    "input_data=load_data()\n",
    "\n",
    "train_test , test= train_test_split(input_data , test_size = 0.1 , random_state = 50)\n",
    "train , validate= train_test_split(train_test , test_size = (1/9) , random_state = 50)\n",
    "\n",
    "x_train = train.loc[:, 2:31]\n",
    "y_train = train.loc[:, 1]\n",
    "x_val   = validate.loc[:, 2:31]\n",
    "y_val   = validate.loc[:, 1]\n",
    "x_test  = test.loc[:, 2:31]\n",
    "y_test  = test.loc[:, 1]\n",
    "\n",
    "#Normalising the data\n",
    "sc = StandardScaler()\n",
    "x_train = sc.fit_transform(x_train)\n",
    "x_val   = sc.transform(x_val)\n",
    "x_test  = sc.transform(x_test)\n",
    "\n",
    "x_train = np.asarray(x_train)\n",
    "y_train = np.asarray(y_train)\n",
    "x_val = np.asarray(x_val)\n",
    "y_val = np.asarray(y_val)\n",
    "x_test = np.asarray(x_test)\n",
    "y_test = np.asarray(y_test)\n",
    "\n",
    "\n"
   ]
  },
  {
   "cell_type": "code",
   "execution_count": 149,
   "metadata": {
    "scrolled": true
   },
   "outputs": [
    {
     "name": "stdout",
     "output_type": "stream",
     "text": [
      "cost after 0 iteration : 0.693147\n",
      "cost after 10 iteration : 0.541927\n",
      "cost after 20 iteration : 0.455045\n",
      "cost after 30 iteration : 0.398917\n",
      "cost after 40 iteration : 0.359417\n",
      "cost after 50 iteration : 0.329907\n",
      "cost after 60 iteration : 0.306885\n",
      "cost after 70 iteration : 0.288329\n",
      "cost after 80 iteration : 0.272990\n",
      "cost after 90 iteration : 0.260050\n",
      "cost after 100 iteration : 0.248955\n",
      "cost after 110 iteration : 0.239311\n",
      "cost after 120 iteration : 0.230833\n",
      "cost after 130 iteration : 0.223308\n",
      "cost after 140 iteration : 0.216572\n",
      "cost after 150 iteration : 0.210501\n",
      "cost after 160 iteration : 0.204992\n",
      "cost after 170 iteration : 0.199968\n",
      "cost after 180 iteration : 0.195362\n",
      "cost after 190 iteration : 0.191121\n",
      "cost after 200 iteration : 0.187201\n",
      "cost after 210 iteration : 0.183564\n",
      "cost after 220 iteration : 0.180179\n",
      "cost after 230 iteration : 0.177020\n",
      "cost after 240 iteration : 0.174062\n",
      "cost after 250 iteration : 0.171287\n",
      "cost after 260 iteration : 0.168677\n",
      "cost after 270 iteration : 0.166216\n",
      "cost after 280 iteration : 0.163892\n",
      "cost after 290 iteration : 0.161693\n",
      "cost after 300 iteration : 0.159609\n",
      "cost after 310 iteration : 0.157630\n",
      "cost after 320 iteration : 0.155747\n",
      "cost after 330 iteration : 0.153955\n",
      "cost after 340 iteration : 0.152245\n",
      "cost after 350 iteration : 0.150613\n",
      "cost after 360 iteration : 0.149052\n",
      "cost after 370 iteration : 0.147558\n",
      "cost after 380 iteration : 0.146126\n",
      "cost after 390 iteration : 0.144753\n",
      "cost after 400 iteration : 0.143434\n",
      "cost after 410 iteration : 0.142166\n",
      "cost after 420 iteration : 0.140946\n",
      "cost after 430 iteration : 0.139771\n",
      "cost after 440 iteration : 0.138639\n",
      "cost after 450 iteration : 0.137547\n",
      "cost after 460 iteration : 0.136493\n",
      "cost after 470 iteration : 0.135475\n",
      "cost after 480 iteration : 0.134490\n",
      "cost after 490 iteration : 0.133538\n"
     ]
    },
    {
     "data": {
      "text/plain": [
       "Text(0,0.5,'loss')"
      ]
     },
     "execution_count": 149,
     "metadata": {},
     "output_type": "execute_result"
    },
    {
     "data": {
      "image/png": "[encoded data removed]",
      "text/plain": [
       "<Figure size 432x288 with 1 Axes>"
      ]
     },
     "metadata": {},
     "output_type": "display_data"
    }
   ],
   "source": [
    "# Calling the logistic regression function\n",
    "regression_model = logistic_regression(x_train.T, y_train.T, epochs=500,learning_rate = 0.01)\n",
    "\n",
    "costs=regression_model[\"costs\"]\n",
    "weights=regression_model[\"w\"]\n",
    "bias=regression_model[\"b\"]\n",
    "predictions=regression_model[\"predictions\"]\n",
    "\n",
    "#Drawing the plot between cost and number of iterations\n",
    "plt.plot(costs)\n",
    "plt.title(\"loss vs Number of Iterations\")\n",
    "plt.xlabel(\"Number of Iterations ( * 10)\")\n",
    "plt.ylabel(\"loss\")\n"
   ]
  },
  {
   "cell_type": "code",
   "execution_count": 150,
   "metadata": {},
   "outputs": [
    {
     "data": {
      "text/plain": [
       "Text(0,0.5,'accuracy')"
      ]
     },
     "execution_count": 150,
     "metadata": {},
     "output_type": "execute_result"
    },
    {
     "data": {
      "image/png": "[encoded data removed]",
      "text/plain": [
       "<Figure size 432x288 with 1 Axes>"
      ]
     },
     "metadata": {},
     "output_type": "display_data"
    }
   ],
   "source": [
    "#Drawing the plot between cost and number of iterations\n",
    "plt.plot(predictions)\n",
    "plt.title(\"accuracy vs Number of Iterations\")\n",
    "##Drawing the plot between cost and number of iterations\n",
    "plt.title(\"accuracy vs Number of Iterations\")\n",
    "plt.xlabel(\"Number of Iterations ( * 10)\")\n",
    "plt.ylabel(\"accuracy\")"
   ]
  },
  {
   "cell_type": "code",
   "execution_count": 151,
   "metadata": {},
   "outputs": [
    {
     "name": "stdout",
     "output_type": "stream",
     "text": [
      "[[41  1]\n",
      " [ 0 15]]\n",
      "accuracy: 98.24561403508771 %\n",
      "recall: 97.61904761904762 %\n",
      "precision: 100.0 %\n",
      "F_Measure: 98.79518072289156 %\n"
     ]
    }
   ],
   "source": [
    "prediction_train = predict(x_train.T, weights, bias)\n",
    "prediction_test = predict(x_test.T, weights, bias)\n",
    "prediction_val = predict(x_val.T, weights,bias)\n",
    "\n",
    "#print(\"\\n Train accuracy: {} %\".format(100 - np.mean(np.abs(prediction_train - y_train.T)) * 100))\n",
    "#print(\"\\n Validation Data accuracy: {} %\".format(100 - np.mean(np.abs(prediction_val - y_val.T)) * 100)) \n",
    "#print(\"\\n Test accuracy: {} %\".format(100 - np.mean(np.abs(prediction_test - y_test.T)) * 100))\n",
    "\n",
    "prediction_test=prediction_test.reshape(x_test.shape[0], 1)\n",
    "\n",
    "#Calculating the metrics using the confusion matrix\n",
    "\n",
    "from sklearn.metrics import confusion_matrix\n",
    "cm = confusion_matrix( y_test, prediction_test)\n",
    "print(cm)\n",
    "TP = cm[0][0]\n",
    "FN = cm[0][1]\n",
    "FP = cm[1][0]\n",
    "TN = cm[1][1]\n",
    "acc = (TP+TN)/(TP+TN+FP+FN)\n",
    "recall = TP/(TP+FN)\n",
    "precision = TP/(TP+FP)\n",
    "F_Measure = (2*recall*precision)/(recall+precision)\n",
    "print(\"accuracy:\",acc*100,\"%\")\n",
    "print(\"recall:\",recall*100,\"%\")\n",
    "print(\"precision:\",precision*100,\"%\")\n",
    "print(\"F_Measure:\",F_Measure*100,\"%\")"
   ]
  },
  {
   "cell_type": "code",
   "execution_count": null,
   "metadata": {},
   "outputs": [],
   "source": []
  },
  {
   "cell_type": "code",
   "execution_count": null,
   "metadata": {},
   "outputs": [],
   "source": []
  },
  {
   "cell_type": "code",
   "execution_count": null,
   "metadata": {},
   "outputs": [],
   "source": []
  },
  {
   "cell_type": "code",
   "execution_count": null,
   "metadata": {},
   "outputs": [],
   "source": []
  }
 ],
 "metadata": {
  "kernelspec": {
   "display_name": "Python 3",
   "language": "python",
   "name": "python3"
  },
  "language_info": {
   "codemirror_mode": {
    "name": "ipython",
    "version": 3
   },
   "file_extension": ".py",
   "mimetype": "text/x-python",
   "name": "python",
   "nbconvert_exporter": "python",
   "pygments_lexer": "ipython3",
   "version": "3.7.4"
  }
 },
 "nbformat": 4,
 "nbformat_minor": 4
}
